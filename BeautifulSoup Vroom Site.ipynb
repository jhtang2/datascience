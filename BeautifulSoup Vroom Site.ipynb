{
 "cells": [
  {
   "cell_type": "code",
   "execution_count": 267,
   "metadata": {},
   "outputs": [],
   "source": [
    "import pandas as pd\n",
    "import requests\n",
    "from bs4 import BeautifulSoup\n",
    "import warnings\n",
    "warnings.filterwarnings('ignore')\n",
    "import seaborn as sns\n",
    "import matplotlib.pyplot as plt\n",
    "%matplotlib inline"
   ]
  },
  {
   "cell_type": "code",
   "execution_count": 219,
   "metadata": {},
   "outputs": [
    {
     "name": "stdout",
     "output_type": "stream",
     "text": [
      "https://www.vroom.com/catalog/all-years/lexus,porsche,tesla?page=1\n",
      "https://www.vroom.com/catalog/all-years/lexus,porsche,tesla?page=2\n",
      "https://www.vroom.com/catalog/all-years/lexus,porsche,tesla?page=3\n",
      "https://www.vroom.com/catalog/all-years/lexus,porsche,tesla?page=4\n",
      "https://www.vroom.com/catalog/all-years/lexus,porsche,tesla?page=5\n",
      "https://www.vroom.com/catalog/all-years/lexus,porsche,tesla?page=6\n",
      "https://www.vroom.com/catalog/all-years/lexus,porsche,tesla?page=7\n",
      "https://www.vroom.com/catalog/all-years/lexus,porsche,tesla?page=8\n"
     ]
    }
   ],
   "source": [
    "list = []\n",
    "base_url = 'https://www.vroom.com/catalog/all-years/lexus,porsche,tesla?page='\n",
    "for page in range(1,9):\n",
    "    print(base_url+str(page))\n",
    "    headers={'User-agent': 'Mozilla/5.0 (Windows NT 10.0; Win64; x64) AppleWebKit/537.36 (KHTML, like Gecko) Chrome/80.0.3987.163 Safari/537.36'} \n",
    "    r = requests.get(base_url+str(page),headers = headers)\n",
    "    c = r.content\n",
    "    soup = BeautifulSoup(c, 'html.parser')\n",
    "    all = soup.find_all('div',{'class':'Vehicle__Information-sc-13p5roa-7 kJuOJn'})\n",
    "    \n",
    "    for item in all:\n",
    "        d={}\n",
    "        d['model'] = item.find('span',{'class':'Vehicle__YearMakeModel-sc-13p5roa-8 dPBJmp'}).text\n",
    "        d['price'] = item.find('span',{'class':'Vehicle__Price-sc-13p5roa-13 dmmfBB'}).text\n",
    "        d['miles'] = item.find('span',{'class':'Vehicle__Miles-sc-13p5roa-12 dYxXkn'}).text\n",
    "        d['trim'] = item.find('span',{'class':'Vehicle__Trim-sc-13p5roa-10 gpPisT'}).text\n",
    "        list.append(d)"
   ]
  },
  {
   "cell_type": "code",
   "execution_count": 222,
   "metadata": {},
   "outputs": [
    {
     "data": {
      "text/html": [
       "<div>\n",
       "<style scoped>\n",
       "    .dataframe tbody tr th:only-of-type {\n",
       "        vertical-align: middle;\n",
       "    }\n",
       "\n",
       "    .dataframe tbody tr th {\n",
       "        vertical-align: top;\n",
       "    }\n",
       "\n",
       "    .dataframe thead th {\n",
       "        text-align: right;\n",
       "    }\n",
       "</style>\n",
       "<table border=\"1\" class=\"dataframe\">\n",
       "  <thead>\n",
       "    <tr style=\"text-align: right;\">\n",
       "      <th></th>\n",
       "      <th>model</th>\n",
       "      <th>price</th>\n",
       "      <th>miles</th>\n",
       "      <th>trim</th>\n",
       "    </tr>\n",
       "  </thead>\n",
       "  <tbody>\n",
       "    <tr>\n",
       "      <th>0</th>\n",
       "      <td>2019 Lexus LC 500</td>\n",
       "      <td>$71,980</td>\n",
       "      <td>534 miles</td>\n",
       "      <td>Base</td>\n",
       "    </tr>\n",
       "    <tr>\n",
       "      <th>1</th>\n",
       "      <td>2015 Lexus ES 350</td>\n",
       "      <td>$19,980</td>\n",
       "      <td>49,978 miles</td>\n",
       "      <td>Base</td>\n",
       "    </tr>\n",
       "    <tr>\n",
       "      <th>2</th>\n",
       "      <td>2015 Lexus CT 200h</td>\n",
       "      <td>$17,980</td>\n",
       "      <td>48,245 miles</td>\n",
       "      <td>Base</td>\n",
       "    </tr>\n",
       "    <tr>\n",
       "      <th>3</th>\n",
       "      <td>2019 Lexus RX 450h</td>\n",
       "      <td>$39,980</td>\n",
       "      <td>29,869 miles</td>\n",
       "      <td>450h</td>\n",
       "    </tr>\n",
       "    <tr>\n",
       "      <th>4</th>\n",
       "      <td>2020 Tesla Model 3</td>\n",
       "      <td>$38,980</td>\n",
       "      <td>9,599 miles</td>\n",
       "      <td>Standard Range Plus</td>\n",
       "    </tr>\n",
       "  </tbody>\n",
       "</table>\n",
       "</div>"
      ],
      "text/plain": [
       "                model    price         miles                 trim\n",
       "0   2019 Lexus LC 500  $71,980     534 miles                 Base\n",
       "1   2015 Lexus ES 350  $19,980  49,978 miles                 Base\n",
       "2  2015 Lexus CT 200h  $17,980  48,245 miles                 Base\n",
       "3  2019 Lexus RX 450h  $39,980  29,869 miles                 450h\n",
       "4  2020 Tesla Model 3  $38,980   9,599 miles  Standard Range Plus"
      ]
     },
     "execution_count": 222,
     "metadata": {},
     "output_type": "execute_result"
    }
   ],
   "source": [
    "df = pd.DataFrame(list)\n",
    "df.head()"
   ]
  },
  {
   "cell_type": "code",
   "execution_count": 224,
   "metadata": {},
   "outputs": [
    {
     "data": {
      "text/html": [
       "<div>\n",
       "<style scoped>\n",
       "    .dataframe tbody tr th:only-of-type {\n",
       "        vertical-align: middle;\n",
       "    }\n",
       "\n",
       "    .dataframe tbody tr th {\n",
       "        vertical-align: top;\n",
       "    }\n",
       "\n",
       "    .dataframe thead th {\n",
       "        text-align: right;\n",
       "    }\n",
       "</style>\n",
       "<table border=\"1\" class=\"dataframe\">\n",
       "  <thead>\n",
       "    <tr style=\"text-align: right;\">\n",
       "      <th></th>\n",
       "      <th>0</th>\n",
       "      <th>1</th>\n",
       "      <th>2</th>\n",
       "      <th>3</th>\n",
       "    </tr>\n",
       "  </thead>\n",
       "  <tbody>\n",
       "    <tr>\n",
       "      <th>0</th>\n",
       "      <td>2019</td>\n",
       "      <td>Lexus</td>\n",
       "      <td>LC</td>\n",
       "      <td>500</td>\n",
       "    </tr>\n",
       "    <tr>\n",
       "      <th>1</th>\n",
       "      <td>2015</td>\n",
       "      <td>Lexus</td>\n",
       "      <td>ES</td>\n",
       "      <td>350</td>\n",
       "    </tr>\n",
       "    <tr>\n",
       "      <th>2</th>\n",
       "      <td>2015</td>\n",
       "      <td>Lexus</td>\n",
       "      <td>CT</td>\n",
       "      <td>200h</td>\n",
       "    </tr>\n",
       "    <tr>\n",
       "      <th>3</th>\n",
       "      <td>2019</td>\n",
       "      <td>Lexus</td>\n",
       "      <td>RX</td>\n",
       "      <td>450h</td>\n",
       "    </tr>\n",
       "    <tr>\n",
       "      <th>4</th>\n",
       "      <td>2020</td>\n",
       "      <td>Tesla</td>\n",
       "      <td>Model</td>\n",
       "      <td>3</td>\n",
       "    </tr>\n",
       "  </tbody>\n",
       "</table>\n",
       "</div>"
      ],
      "text/plain": [
       "      0      1      2     3\n",
       "0  2019  Lexus     LC   500\n",
       "1  2015  Lexus     ES   350\n",
       "2  2015  Lexus     CT  200h\n",
       "3  2019  Lexus     RX  450h\n",
       "4  2020  Tesla  Model     3"
      ]
     },
     "execution_count": 224,
     "metadata": {},
     "output_type": "execute_result"
    }
   ],
   "source": [
    "dfsplit = df['model'].str.split(' ',expand=True)\n",
    "dfsplit.head()"
   ]
  },
  {
   "cell_type": "code",
   "execution_count": 244,
   "metadata": {},
   "outputs": [],
   "source": [
    "final = df.join(dfsplit,how='outer')"
   ]
  },
  {
   "cell_type": "code",
   "execution_count": 245,
   "metadata": {},
   "outputs": [],
   "source": [
    "final.drop([2,3],axis=1,inplace=True)"
   ]
  },
  {
   "cell_type": "code",
   "execution_count": 246,
   "metadata": {},
   "outputs": [],
   "source": [
    "final.columns=['model','price','miles','trim','year','make']"
   ]
  },
  {
   "cell_type": "code",
   "execution_count": 247,
   "metadata": {},
   "outputs": [
    {
     "data": {
      "text/html": [
       "<div>\n",
       "<style scoped>\n",
       "    .dataframe tbody tr th:only-of-type {\n",
       "        vertical-align: middle;\n",
       "    }\n",
       "\n",
       "    .dataframe tbody tr th {\n",
       "        vertical-align: top;\n",
       "    }\n",
       "\n",
       "    .dataframe thead th {\n",
       "        text-align: right;\n",
       "    }\n",
       "</style>\n",
       "<table border=\"1\" class=\"dataframe\">\n",
       "  <thead>\n",
       "    <tr style=\"text-align: right;\">\n",
       "      <th></th>\n",
       "      <th>year</th>\n",
       "      <th>model</th>\n",
       "      <th>make</th>\n",
       "      <th>price</th>\n",
       "      <th>miles</th>\n",
       "      <th>trim</th>\n",
       "    </tr>\n",
       "  </thead>\n",
       "  <tbody>\n",
       "    <tr>\n",
       "      <th>0</th>\n",
       "      <td>2019</td>\n",
       "      <td>2019 Lexus LC 500</td>\n",
       "      <td>Lexus</td>\n",
       "      <td>$71,980</td>\n",
       "      <td>534 miles</td>\n",
       "      <td>Base</td>\n",
       "    </tr>\n",
       "    <tr>\n",
       "      <th>1</th>\n",
       "      <td>2015</td>\n",
       "      <td>2015 Lexus ES 350</td>\n",
       "      <td>Lexus</td>\n",
       "      <td>$19,980</td>\n",
       "      <td>49,978 miles</td>\n",
       "      <td>Base</td>\n",
       "    </tr>\n",
       "    <tr>\n",
       "      <th>2</th>\n",
       "      <td>2015</td>\n",
       "      <td>2015 Lexus CT 200h</td>\n",
       "      <td>Lexus</td>\n",
       "      <td>$17,980</td>\n",
       "      <td>48,245 miles</td>\n",
       "      <td>Base</td>\n",
       "    </tr>\n",
       "    <tr>\n",
       "      <th>3</th>\n",
       "      <td>2019</td>\n",
       "      <td>2019 Lexus RX 450h</td>\n",
       "      <td>Lexus</td>\n",
       "      <td>$39,980</td>\n",
       "      <td>29,869 miles</td>\n",
       "      <td>450h</td>\n",
       "    </tr>\n",
       "    <tr>\n",
       "      <th>4</th>\n",
       "      <td>2020</td>\n",
       "      <td>2020 Tesla Model 3</td>\n",
       "      <td>Tesla</td>\n",
       "      <td>$38,980</td>\n",
       "      <td>9,599 miles</td>\n",
       "      <td>Standard Range Plus</td>\n",
       "    </tr>\n",
       "  </tbody>\n",
       "</table>\n",
       "</div>"
      ],
      "text/plain": [
       "   year               model   make    price         miles                 trim\n",
       "0  2019   2019 Lexus LC 500  Lexus  $71,980     534 miles                 Base\n",
       "1  2015   2015 Lexus ES 350  Lexus  $19,980  49,978 miles                 Base\n",
       "2  2015  2015 Lexus CT 200h  Lexus  $17,980  48,245 miles                 Base\n",
       "3  2019  2019 Lexus RX 450h  Lexus  $39,980  29,869 miles                 450h\n",
       "4  2020  2020 Tesla Model 3  Tesla  $38,980   9,599 miles  Standard Range Plus"
      ]
     },
     "execution_count": 247,
     "metadata": {},
     "output_type": "execute_result"
    }
   ],
   "source": [
    "final = final[['year','model','make','price','miles','trim']]\n",
    "final.head()"
   ]
  },
  {
   "cell_type": "code",
   "execution_count": 248,
   "metadata": {},
   "outputs": [
    {
     "data": {
      "text/plain": [
       "<matplotlib.axes._subplots.AxesSubplot at 0x14123e1ce08>"
      ]
     },
     "execution_count": 248,
     "metadata": {},
     "output_type": "execute_result"
    },
    {
     "data": {
      "image/png": "[encoded data removed]",
      "text/plain": [
       "<Figure size 432x288 with 1 Axes>"
      ]
     },
     "metadata": {
      "needs_background": "light"
     },
     "output_type": "display_data"
    }
   ],
   "source": [
    "sns.heatmap(final.isnull(),yticklabels=False,cbar=False,cmap='viridis')"
   ]
  },
  {
   "cell_type": "code",
   "execution_count": 253,
   "metadata": {},
   "outputs": [],
   "source": [
    "final['price'] = final['price'].apply(lambda X:X.replace('$','').replace(',',''))\n",
    "final['miles'] = final['miles'].apply(lambda X:X.replace('miles','').replace(',',''))"
   ]
  },
  {
   "cell_type": "code",
   "execution_count": 259,
   "metadata": {},
   "outputs": [],
   "source": [
    "final['price'] = pd.to_numeric(final['price'])\n",
    "final['miles'] = pd.to_numeric(final['miles'])"
   ]
  },
  {
   "cell_type": "code",
   "execution_count": 333,
   "metadata": {},
   "outputs": [
    {
     "data": {
      "text/plain": [
       "Text(0.5, 1, 'Average Prices over Year by Brand')"
      ]
     },
     "execution_count": 333,
     "metadata": {},
     "output_type": "execute_result"
    },
    {
     "data": {
      "image/png": "[encoded data removed]",
      "text/plain": [
       "<Figure size 576x288 with 1 Axes>"
      ]
     },
     "metadata": {},
     "output_type": "display_data"
    }
   ],
   "source": [
    "plt.figure(figsize=(8,4))\n",
    "sns.set_style('whitegrid')\n",
    "sns.barplot('year','price',hue='make',data=final)\n",
    "plt.legend(loc='upper left')\n",
    "plt.tight_layout()\n",
    "plt.title('Average Prices over Year by Brand')"
   ]
  },
  {
   "cell_type": "code",
   "execution_count": 357,
   "metadata": {},
   "outputs": [
    {
     "data": {
      "text/plain": [
       "Text(0.5, 1.0, 'Car Breakdown by Model')"
      ]
     },
     "execution_count": 357,
     "metadata": {},
     "output_type": "execute_result"
    },
    {
     "data": {
      "image/png": "[encoded data removed]",
      "text/plain": [
       "<Figure size 864x432 with 1 Axes>"
      ]
     },
     "metadata": {},
     "output_type": "display_data"
    }
   ],
   "source": [
    "plt.figure(figsize=(12,6))\n",
    "plt.pie(final['make'].value_counts(),autopct='%1.1f%%',labels=final['make'].unique(),explode=(.1,.1,.1))\n",
    "plt.title('Car Breakdown by Model')"
   ]
  },
  {
   "cell_type": "code",
   "execution_count": null,
   "metadata": {},
   "outputs": [],
   "source": []
  }
 ],
 "metadata": {
  "kernelspec": {
   "display_name": "Python 3",
   "language": "python",
   "name": "python3"
  },
  "language_info": {
   "codemirror_mode": {
    "name": "ipython",
    "version": 3
   },
   "file_extension": ".py",
   "mimetype": "text/x-python",
   "name": "python",
   "nbconvert_exporter": "python",
   "pygments_lexer": "ipython3",
   "version": "3.7.6"
  }
 },
 "nbformat": 4,
 "nbformat_minor": 4
}
